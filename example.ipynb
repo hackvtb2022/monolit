{
 "cells": [
  {
   "cell_type": "code",
   "execution_count": 8,
   "metadata": {},
   "outputs": [
    {
     "name": "stderr",
     "output_type": "stream",
     "text": [
      "Warning : `load_model` does not return WordVectorModel or SupervisedModel any more, but a `FastText` object which is very similar.\n",
      "/opt/homebrew/Caskroom/miniforge/base/envs/ml_env/lib/python3.8/site-packages/torch/serialization.py:602: UserWarning: 'torch.load' received a zip file that looks like a TorchScript archive dispatching to 'torch.jit.load' (call 'torch.jit.load' directly to silence this warning)\n",
      "  warnings.warn(\"'torch.load' received a zip file that looks like a TorchScript archive\"\n"
     ]
    }
   ],
   "source": [
    "\n",
    "import pandas as pd\n",
    "import numpy as np\n",
    "from service_aggregator import (\n",
    "    get_embeddings_text,\n",
    "    tokenizer,\n",
    "    ft_model,\n",
    "    embedder_text,\n",
    "    get_clusters,\n",
    "    get_topK_clusters,\n",
    "    get_topK_news,\n",
    "    get_filtered_by_role\n",
    ")"
   ]
  },
  {
   "cell_type": "code",
   "execution_count": 24,
   "metadata": {},
   "outputs": [
    {
     "data": {
      "text/html": [
       "<div>\n",
       "<style scoped>\n",
       "    .dataframe tbody tr th:only-of-type {\n",
       "        vertical-align: middle;\n",
       "    }\n",
       "\n",
       "    .dataframe tbody tr th {\n",
       "        vertical-align: top;\n",
       "    }\n",
       "\n",
       "    .dataframe thead th {\n",
       "        text-align: right;\n",
       "    }\n",
       "</style>\n",
       "<table border=\"1\" class=\"dataframe\">\n",
       "  <thead>\n",
       "    <tr style=\"text-align: right;\">\n",
       "      <th></th>\n",
       "      <th>uuid</th>\n",
       "      <th>url</th>\n",
       "      <th>title</th>\n",
       "      <th>post_dttm</th>\n",
       "      <th>processed_dttm</th>\n",
       "      <th>full_text</th>\n",
       "      <th>text_links</th>\n",
       "    </tr>\n",
       "  </thead>\n",
       "  <tbody>\n",
       "    <tr>\n",
       "      <th>0</th>\n",
       "      <td>1ae58a3e-2f52-495f-9386-9f2c2b6abb49</td>\n",
       "      <td>https://www.consultant.ru/legalnews/20519</td>\n",
       "      <td>Разъяснили особенности учета занятости доброво...</td>\n",
       "      <td>2022-10-06 09:00:00</td>\n",
       "      <td>2022-10-07 20:25:07.958280</td>\n",
       "      <td>Росстат указал, что мобилизованных и доброволь...</td>\n",
       "      <td>NaN</td>\n",
       "    </tr>\n",
       "    <tr>\n",
       "      <th>1</th>\n",
       "      <td>40a49284-62c2-448c-8c5e-6fe2b310f3ed</td>\n",
       "      <td>https://www.consultant.ru/legalnews/20515</td>\n",
       "      <td>В окончательном чтении приняли поправки об ипо...</td>\n",
       "      <td>2022-10-05 23:30:00</td>\n",
       "      <td>2022-10-07 20:25:07.958280</td>\n",
       "      <td>Предлагают размещать деньги в составе ипотечно...</td>\n",
       "      <td>NaN</td>\n",
       "    </tr>\n",
       "    <tr>\n",
       "      <th>2</th>\n",
       "      <td>84e95bdd-fc90-40ec-9c09-13804b469422</td>\n",
       "      <td>https://www.consultant.ru/legalnews/20507</td>\n",
       "      <td>Стали известны возможные коэффициенты-дефлятор...</td>\n",
       "      <td>2022-10-05 23:00:00</td>\n",
       "      <td>2022-10-07 20:25:07.958280</td>\n",
       "      <td>Минэкономразвития выставило на общественное об...</td>\n",
       "      <td>NaN</td>\n",
       "    </tr>\n",
       "    <tr>\n",
       "      <th>3</th>\n",
       "      <td>b9afb90a-d543-4efc-ae31-e68a96c42e40</td>\n",
       "      <td>https://www.consultant.ru/legalnews/20512</td>\n",
       "      <td>Подготовили поправки к перечням КБК на 2022 го...</td>\n",
       "      <td>2022-10-05 22:30:00</td>\n",
       "      <td>2022-10-07 20:25:07.958280</td>\n",
       "      <td>Проект проходит общественное обсуждение до 17 ...</td>\n",
       "      <td>NaN</td>\n",
       "    </tr>\n",
       "    <tr>\n",
       "      <th>4</th>\n",
       "      <td>d64af00b-f3b1-44f0-b73e-c22246b95740</td>\n",
       "      <td>https://www.consultant.ru/legalnews/20513</td>\n",
       "      <td>Планируют смягчить требования к энергоэффектив...</td>\n",
       "      <td>2022-10-05 21:30:00</td>\n",
       "      <td>2022-10-07 20:25:07.958280</td>\n",
       "      <td>Предложили при приобретении телевизоров с кодо...</td>\n",
       "      <td>NaN</td>\n",
       "    </tr>\n",
       "  </tbody>\n",
       "</table>\n",
       "</div>"
      ],
      "text/plain": [
       "                                   uuid  \\\n",
       "0  1ae58a3e-2f52-495f-9386-9f2c2b6abb49   \n",
       "1  40a49284-62c2-448c-8c5e-6fe2b310f3ed   \n",
       "2  84e95bdd-fc90-40ec-9c09-13804b469422   \n",
       "3  b9afb90a-d543-4efc-ae31-e68a96c42e40   \n",
       "4  d64af00b-f3b1-44f0-b73e-c22246b95740   \n",
       "\n",
       "                                         url  \\\n",
       "0  https://www.consultant.ru/legalnews/20519   \n",
       "1  https://www.consultant.ru/legalnews/20515   \n",
       "2  https://www.consultant.ru/legalnews/20507   \n",
       "3  https://www.consultant.ru/legalnews/20512   \n",
       "4  https://www.consultant.ru/legalnews/20513   \n",
       "\n",
       "                                               title            post_dttm  \\\n",
       "0  Разъяснили особенности учета занятости доброво...  2022-10-06 09:00:00   \n",
       "1  В окончательном чтении приняли поправки об ипо...  2022-10-05 23:30:00   \n",
       "2  Стали известны возможные коэффициенты-дефлятор...  2022-10-05 23:00:00   \n",
       "3  Подготовили поправки к перечням КБК на 2022 го...  2022-10-05 22:30:00   \n",
       "4  Планируют смягчить требования к энергоэффектив...  2022-10-05 21:30:00   \n",
       "\n",
       "               processed_dttm  \\\n",
       "0  2022-10-07 20:25:07.958280   \n",
       "1  2022-10-07 20:25:07.958280   \n",
       "2  2022-10-07 20:25:07.958280   \n",
       "3  2022-10-07 20:25:07.958280   \n",
       "4  2022-10-07 20:25:07.958280   \n",
       "\n",
       "                                           full_text text_links  \n",
       "0  Росстат указал, что мобилизованных и доброволь...        NaN  \n",
       "1  Предлагают размещать деньги в составе ипотечно...        NaN  \n",
       "2  Минэкономразвития выставило на общественное об...        NaN  \n",
       "3  Проект проходит общественное обсуждение до 17 ...        NaN  \n",
       "4  Предложили при приобретении телевизоров с кодо...        NaN  "
      ]
     },
     "execution_count": 24,
     "metadata": {},
     "output_type": "execute_result"
    }
   ],
   "source": [
    "# data = pd.read_csv(\"/Users/pavelkockin/Downloads/lenta-ru-news.csv\")\n",
    "data = pd.read_csv(\n",
    "    \"/Users/pavelkockin/Downloads/бухгалтер.csv\", \n",
    "    sep=\";\",\n",
    "    index_col=0,\n",
    ")\n",
    "data.head()"
   ]
  },
  {
   "cell_type": "code",
   "execution_count": 25,
   "metadata": {},
   "outputs": [],
   "source": [
    "data[\"post_dttm\"] = pd.to_datetime(data[\"post_dttm\"]) # + pd.DateOffset(hours  = 2)"
   ]
  },
  {
   "cell_type": "code",
   "execution_count": 32,
   "metadata": {},
   "outputs": [
    {
     "name": "stdout",
     "output_type": "stream",
     "text": [
      "(656, 7)\n",
      "(656, 128)\n"
     ]
    },
    {
     "name": "stderr",
     "output_type": "stream",
     "text": [
      "/var/folders/m0/9677s49d3bvfjvgs4x4b64w00000gn/T/ipykernel_16144/473585652.py:9: SettingWithCopyWarning: \n",
      "A value is trying to be set on a copy of a slice from a DataFrame.\n",
      "Try using .loc[row_indexer,col_indexer] = value instead\n",
      "\n",
      "See the caveats in the documentation: https://pandas.pydata.org/pandas-docs/stable/user_guide/indexing.html#returning-a-view-versus-a-copy\n",
      "  corpus[\"embedding\"] = corpus_embeddings\n"
     ]
    }
   ],
   "source": [
    "corpus = data[(data[\"post_dttm\"] >= \"2022-09-01 00:00:00\")]\n",
    "print(corpus.shape)\n",
    "corpus_embeddings = get_embeddings_text(\n",
    "    corpus=corpus[\"full_text\"],\n",
    "    tokenizer=tokenizer,\n",
    "    model_vectorizer=ft_model,\n",
    "    model_embedder=embedder_text,\n",
    ")\n",
    "corpus[\"embedding\"] = corpus_embeddings\n",
    "print(np.array(corpus_embeddings).shape)"
   ]
  },
  {
   "cell_type": "code",
   "execution_count": 33,
   "metadata": {},
   "outputs": [],
   "source": [
    "buh_context = \"\"\"Бухгалтер сегодня считается одной из самых достойных и нужных профессий. Бухгалтер – это специалист в области бухгалтерии, ведущий денежную и коммерческую отчетность на предприятиях.\n",
    "Его задачи – это своевременная уплата налогов и сдача отчетности в государственные органы, отслеживание состояние счетов компании и правильное сведение баланса. \n",
    "Кадровый учет и делопроизводство, дополнительные соглашения к договорам также входят в обязанности бухгалтера. В небольших фирмах за это отвечает главный бухгалтер.\n",
    "Бухгалтер отвечает за операционную поддержку бизнеса.\"\"\""
   ]
  },
  {
   "cell_type": "code",
   "execution_count": 34,
   "metadata": {},
   "outputs": [],
   "source": [
    "filtered_corpus = get_filtered_by_role(\n",
    "    corpus_embeddings=corpus_embeddings,\n",
    "    role_embedding=get_embeddings_text([buh_context]),\n",
    ")\n",
    "corpus = corpus.iloc[filtered_corpus]"
   ]
  },
  {
   "cell_type": "code",
   "execution_count": 41,
   "metadata": {},
   "outputs": [],
   "source": [
    "corpus[\"cluster\"] = get_clusters(corpus[\"embedding\"].to_list())"
   ]
  },
  {
   "cell_type": "code",
   "execution_count": 44,
   "metadata": {},
   "outputs": [
    {
     "data": {
      "text/html": [
       "<div>\n",
       "<style scoped>\n",
       "    .dataframe tbody tr th:only-of-type {\n",
       "        vertical-align: middle;\n",
       "    }\n",
       "\n",
       "    .dataframe tbody tr th {\n",
       "        vertical-align: top;\n",
       "    }\n",
       "\n",
       "    .dataframe thead th {\n",
       "        text-align: right;\n",
       "    }\n",
       "</style>\n",
       "<table border=\"1\" class=\"dataframe\">\n",
       "  <thead>\n",
       "    <tr style=\"text-align: right;\">\n",
       "      <th></th>\n",
       "      <th>title</th>\n",
       "      <th>post_dttm</th>\n",
       "      <th>url</th>\n",
       "    </tr>\n",
       "  </thead>\n",
       "  <tbody>\n",
       "    <tr>\n",
       "      <th>194</th>\n",
       "      <td>Применять мобильный телефон вместо ККТ нельзя</td>\n",
       "      <td>2022-09-15 12:00:00</td>\n",
       "      <td>https://www.consultant.ru/legalnews/20314</td>\n",
       "    </tr>\n",
       "    <tr>\n",
       "      <th>383</th>\n",
       "      <td>Правила применения ККТ при расчетах за маркированные товары могут упростить</td>\n",
       "      <td>2022-09-01 00:00:00</td>\n",
       "      <td>https://www.buhgalteria.ru/news/pravila-primeneniya-kkt-pri-raschetakh-za-markirovannye-tovary-mogut-uprostit.html</td>\n",
       "    </tr>\n",
       "  </tbody>\n",
       "</table>\n",
       "</div>"
      ],
      "text/plain": [
       "                                                                           title  \\\n",
       "194                                Применять мобильный телефон вместо ККТ нельзя   \n",
       "383  Правила применения ККТ при расчетах за маркированные товары могут упростить   \n",
       "\n",
       "              post_dttm  \\\n",
       "194 2022-09-15 12:00:00   \n",
       "383 2022-09-01 00:00:00   \n",
       "\n",
       "                                                                                                                    url  \n",
       "194                                                                           https://www.consultant.ru/legalnews/20314  \n",
       "383  https://www.buhgalteria.ru/news/pravila-primeneniya-kkt-pri-raschetakh-za-markirovannye-tovary-mogut-uprostit.html  "
      ]
     },
     "execution_count": 44,
     "metadata": {},
     "output_type": "execute_result"
    }
   ],
   "source": [
    "pd.set_option(\"max_colwidth\", 120)\n",
    "corpus[corpus[\"cluster\"] == 0][[\"title\",\"post_dttm\",\"url\"]]"
   ]
  },
  {
   "cell_type": "code",
   "execution_count": 45,
   "metadata": {},
   "outputs": [],
   "source": [
    "clusters_index = get_topK_clusters(corpus, K=3, date_col=\"post_dttm\")"
   ]
  },
  {
   "cell_type": "code",
   "execution_count": 46,
   "metadata": {},
   "outputs": [
    {
     "data": {
      "text/plain": [
       "Int64Index([1, 2, 38], dtype='int64', name='cluster')"
      ]
     },
     "execution_count": 46,
     "metadata": {},
     "output_type": "execute_result"
    }
   ],
   "source": [
    "clusters_index"
   ]
  },
  {
   "cell_type": "code",
   "execution_count": 47,
   "metadata": {},
   "outputs": [],
   "source": [
    "cluster_1 = corpus[corpus[\"cluster\"] == 1].copy()"
   ]
  },
  {
   "cell_type": "code",
   "execution_count": 48,
   "metadata": {},
   "outputs": [
    {
     "data": {
      "text/html": [
       "<div>\n",
       "<style scoped>\n",
       "    .dataframe tbody tr th:only-of-type {\n",
       "        vertical-align: middle;\n",
       "    }\n",
       "\n",
       "    .dataframe tbody tr th {\n",
       "        vertical-align: top;\n",
       "    }\n",
       "\n",
       "    .dataframe thead th {\n",
       "        text-align: right;\n",
       "    }\n",
       "</style>\n",
       "<table border=\"1\" class=\"dataframe\">\n",
       "  <thead>\n",
       "    <tr style=\"text-align: right;\">\n",
       "      <th></th>\n",
       "      <th>post_dttm</th>\n",
       "      <th>title</th>\n",
       "      <th>url</th>\n",
       "    </tr>\n",
       "  </thead>\n",
       "  <tbody>\n",
       "    <tr>\n",
       "      <th>120</th>\n",
       "      <td>2022-09-23 23:00:00</td>\n",
       "      <td>Обзор новых антикризисных мер за 17 – 23 сентября</td>\n",
       "      <td>https://www.consultant.ru/legalnews/20392</td>\n",
       "    </tr>\n",
       "    <tr>\n",
       "      <th>163</th>\n",
       "      <td>2022-09-19 15:05:00</td>\n",
       "      <td>Разработали проекты о контроле за соблюдением антикризисных мер и штрафах за их нарушение</td>\n",
       "      <td>https://www.consultant.ru/legalnews/20351</td>\n",
       "    </tr>\n",
       "    <tr>\n",
       "      <th>46</th>\n",
       "      <td>2022-09-19 00:00:00</td>\n",
       "      <td>Минфин подготовил законопроект о контроле за выполнением контрсанкционных требований</td>\n",
       "      <td>https://nalogoved.ru/news/12107.html</td>\n",
       "    </tr>\n",
       "    <tr>\n",
       "      <th>184</th>\n",
       "      <td>2022-09-20 00:00:00</td>\n",
       "      <td>У ФНС появятся новые «штрафные»  полномочия</td>\n",
       "      <td>https://www.buhgalteria.ru/news/u-fns-poyavyatsya-novye-shtrafnye-polnomochiya.html</td>\n",
       "    </tr>\n",
       "  </tbody>\n",
       "</table>\n",
       "</div>"
      ],
      "text/plain": [
       "              post_dttm  \\\n",
       "120 2022-09-23 23:00:00   \n",
       "163 2022-09-19 15:05:00   \n",
       "46  2022-09-19 00:00:00   \n",
       "184 2022-09-20 00:00:00   \n",
       "\n",
       "                                                                                         title  \\\n",
       "120                                          Обзор новых антикризисных мер за 17 – 23 сентября   \n",
       "163  Разработали проекты о контроле за соблюдением антикризисных мер и штрафах за их нарушение   \n",
       "46        Минфин подготовил законопроект о контроле за выполнением контрсанкционных требований   \n",
       "184                                                У ФНС появятся новые «штрафные»  полномочия   \n",
       "\n",
       "                                                                                     url  \n",
       "120                                            https://www.consultant.ru/legalnews/20392  \n",
       "163                                            https://www.consultant.ru/legalnews/20351  \n",
       "46                                                  https://nalogoved.ru/news/12107.html  \n",
       "184  https://www.buhgalteria.ru/news/u-fns-poyavyatsya-novye-shtrafnye-polnomochiya.html  "
      ]
     },
     "execution_count": 48,
     "metadata": {},
     "output_type": "execute_result"
    }
   ],
   "source": [
    "cluster_1[[\"post_dttm\", \"title\", \"url\"]]"
   ]
  },
  {
   "cell_type": "code",
   "execution_count": 49,
   "metadata": {},
   "outputs": [],
   "source": [
    "news_index = get_topK_news(cluster_1, K=2, date_col=\"post_dttm\", embedding_col=\"embedding\")"
   ]
  },
  {
   "cell_type": "code",
   "execution_count": 55,
   "metadata": {},
   "outputs": [
    {
     "data": {
      "text/html": [
       "<div>\n",
       "<style scoped>\n",
       "    .dataframe tbody tr th:only-of-type {\n",
       "        vertical-align: middle;\n",
       "    }\n",
       "\n",
       "    .dataframe tbody tr th {\n",
       "        vertical-align: top;\n",
       "    }\n",
       "\n",
       "    .dataframe thead th {\n",
       "        text-align: right;\n",
       "    }\n",
       "</style>\n",
       "<table border=\"1\" class=\"dataframe\">\n",
       "  <thead>\n",
       "    <tr style=\"text-align: right;\">\n",
       "      <th></th>\n",
       "      <th>uuid</th>\n",
       "      <th>url</th>\n",
       "      <th>title</th>\n",
       "      <th>post_dttm</th>\n",
       "      <th>processed_dttm</th>\n",
       "      <th>full_text</th>\n",
       "      <th>text_links</th>\n",
       "      <th>embedding</th>\n",
       "      <th>cluster</th>\n",
       "      <th>age</th>\n",
       "      <th>similarity</th>\n",
       "      <th>score</th>\n",
       "    </tr>\n",
       "  </thead>\n",
       "  <tbody>\n",
       "    <tr>\n",
       "      <th>120</th>\n",
       "      <td>096b489f-cbb1-42ab-abc3-a224cf41ac0a</td>\n",
       "      <td>https://www.consultant.ru/legalnews/20392</td>\n",
       "      <td>Обзор новых антикризисных мер за 17 – 23 сентября</td>\n",
       "      <td>2022-09-23 23:00:00</td>\n",
       "      <td>2022-10-07 20:25:07.958280</td>\n",
       "      <td>Информацию обо всех важнейших решениях по стабилизации экономики и поддержке бизнеса см. в материале.Контроль за соб...</td>\n",
       "      <td>NaN</td>\n",
       "      <td>[-0.033212121576070786, 0.048488542437553406, -0.035679157823324203, -0.023739363998174667, 0.016680771484971046, -0...</td>\n",
       "      <td>1</td>\n",
       "      <td>1.000000</td>\n",
       "      <td>0.874835</td>\n",
       "      <td>0.874835</td>\n",
       "    </tr>\n",
       "    <tr>\n",
       "      <th>184</th>\n",
       "      <td>43bd81f2-47e6-41a7-b9ab-a5e9d9ce8ccd</td>\n",
       "      <td>https://www.buhgalteria.ru/news/u-fns-poyavyatsya-novye-shtrafnye-polnomochiya.html</td>\n",
       "      <td>У ФНС появятся новые «штрафные»  полномочия</td>\n",
       "      <td>2022-09-20 00:00:00</td>\n",
       "      <td>2022-10-08 02:51:41.076652</td>\n",
       "      <td>Министерство финансов подготовило законопроекты, которые наделят Федеральную налоговую службу и Федеральную таможенн...</td>\n",
       "      <td>https://web.telegram.org/z/#-1612765597,https://vk.com/buhgalteriaru</td>\n",
       "      <td>[0.010317524895071983, 0.02046082727611065, -0.062315523624420166, 0.0075660329312086105, 0.008192973211407661, -0.0...</td>\n",
       "      <td>1</td>\n",
       "      <td>0.201681</td>\n",
       "      <td>0.899727</td>\n",
       "      <td>0.181458</td>\n",
       "    </tr>\n",
       "  </tbody>\n",
       "</table>\n",
       "</div>"
      ],
      "text/plain": [
       "                                     uuid  \\\n",
       "120  096b489f-cbb1-42ab-abc3-a224cf41ac0a   \n",
       "184  43bd81f2-47e6-41a7-b9ab-a5e9d9ce8ccd   \n",
       "\n",
       "                                                                                     url  \\\n",
       "120                                            https://www.consultant.ru/legalnews/20392   \n",
       "184  https://www.buhgalteria.ru/news/u-fns-poyavyatsya-novye-shtrafnye-polnomochiya.html   \n",
       "\n",
       "                                                 title           post_dttm  \\\n",
       "120  Обзор новых антикризисных мер за 17 – 23 сентября 2022-09-23 23:00:00   \n",
       "184        У ФНС появятся новые «штрафные»  полномочия 2022-09-20 00:00:00   \n",
       "\n",
       "                 processed_dttm  \\\n",
       "120  2022-10-07 20:25:07.958280   \n",
       "184  2022-10-08 02:51:41.076652   \n",
       "\n",
       "                                                                                                                   full_text  \\\n",
       "120  Информацию обо всех важнейших решениях по стабилизации экономики и поддержке бизнеса см. в материале.Контроль за соб...   \n",
       "184  Министерство финансов подготовило законопроекты, которые наделят Федеральную налоговую службу и Федеральную таможенн...   \n",
       "\n",
       "                                                               text_links  \\\n",
       "120                                                                   NaN   \n",
       "184  https://web.telegram.org/z/#-1612765597,https://vk.com/buhgalteriaru   \n",
       "\n",
       "                                                                                                                   embedding  \\\n",
       "120  [-0.033212121576070786, 0.048488542437553406, -0.035679157823324203, -0.023739363998174667, 0.016680771484971046, -0...   \n",
       "184  [0.010317524895071983, 0.02046082727611065, -0.062315523624420166, 0.0075660329312086105, 0.008192973211407661, -0.0...   \n",
       "\n",
       "     cluster       age  similarity     score  \n",
       "120        1  1.000000    0.874835  0.874835  \n",
       "184        1  0.201681    0.899727  0.181458  "
      ]
     },
     "execution_count": 55,
     "metadata": {},
     "output_type": "execute_result"
    }
   ],
   "source": [
    "cluster_1.loc[news_index]"
   ]
  }
 ],
 "metadata": {
  "kernelspec": {
   "display_name": "Python 3.8.12 ('ml_env')",
   "language": "python",
   "name": "python3"
  },
  "language_info": {
   "codemirror_mode": {
    "name": "ipython",
    "version": 3
   },
   "file_extension": ".py",
   "mimetype": "text/x-python",
   "name": "python",
   "nbconvert_exporter": "python",
   "pygments_lexer": "ipython3",
   "version": "3.8.12"
  },
  "orig_nbformat": 4,
  "vscode": {
   "interpreter": {
    "hash": "d8f5a8577b8cf413169496226e4485bf91d05ebdcdf9e1588db361085a732ed9"
   }
  }
 },
 "nbformat": 4,
 "nbformat_minor": 2
}
